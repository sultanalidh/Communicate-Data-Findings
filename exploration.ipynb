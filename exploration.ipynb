{
 "cells": [
  {
   "cell_type": "code",
   "execution_count": 242,
   "metadata": {},
   "outputs": [],
   "source": [
    "# import \n",
    "import numpy as np\n",
    "import pandas as pd\n",
    "\n",
    "from zipfile import ZipFile\n",
    "from urllib.request import urlopen\n",
    "\n",
    "import datetime\n",
    "import glob\n",
    "import os\n",
    "from io import BytesIO\n",
    "\n",
    "from requests import get\n",
    "from os import path, getcwd, makedirs, listdir \n",
    "\n",
    "\n",
    "from matplotlib.gridspec import GridSpec\n",
    "import matplotlib.pyplot as plt\n",
    "import seaborn as sns\n",
    "%matplotlib inline"
   ]
  },
  {
   "cell_type": "markdown",
   "metadata": {},
   "source": [
    "## Gather the data"
   ]
  },
  {
   "cell_type": "markdown",
   "metadata": {},
   "source": [
    "##### Get the files to from the server to the folder P7_files"
   ]
  },
  {
   "cell_type": "code",
   "execution_count": null,
   "metadata": {},
   "outputs": [],
   "source": [
    "# create a file name P7_files\n",
    "data_files = 'P7_files'\n",
    "makedirs(data_files)"
   ]
  },
  {
   "cell_type": "markdown",
   "metadata": {},
   "source": [
    "##### We have 3 different data sources in the web page. \n",
    "1. A CSV file for forgobike 2017 \n",
    "2. A number of 12 zip files for forgobike 2018 for 12 months\n",
    "3. A number of 4 zip files for forgobike 2019 for 4 months in year 2019\n",
    "Note: There is another 5 months has a different name in 2019 wont be included here because they maigh be from different activities if we need to we easyly add another function for that. "
   ]
  },
  {
   "cell_type": "markdown",
   "metadata": {},
   "source": [
    "#### Load and save the data"
   ]
  },
  {
   "cell_type": "code",
   "execution_count": 8,
   "metadata": {},
   "outputs": [],
   "source": [
    "# get the CSV 2017 file from the web page. \n",
    "pd.read_csv('https://s3.amazonaws.com/fordgobike-data/2017-fordgobike-tripdata.csv').to_csv('{}/2017-forgobike-tripdata.csv'.format(data_files))\n"
   ]
  },
  {
   "cell_type": "code",
   "execution_count": 105,
   "metadata": {},
   "outputs": [
    {
     "data": {
      "text/html": [
       "<div>\n",
       "<style scoped>\n",
       "    .dataframe tbody tr th:only-of-type {\n",
       "        vertical-align: middle;\n",
       "    }\n",
       "\n",
       "    .dataframe tbody tr th {\n",
       "        vertical-align: top;\n",
       "    }\n",
       "\n",
       "    .dataframe thead th {\n",
       "        text-align: right;\n",
       "    }\n",
       "</style>\n",
       "<table border=\"1\" class=\"dataframe\">\n",
       "  <thead>\n",
       "    <tr style=\"text-align: right;\">\n",
       "      <th></th>\n",
       "      <th>duration_sec</th>\n",
       "      <th>start_time</th>\n",
       "      <th>end_time</th>\n",
       "      <th>start_station_id</th>\n",
       "      <th>start_station_name</th>\n",
       "      <th>start_station_latitude</th>\n",
       "      <th>start_station_longitude</th>\n",
       "      <th>end_station_id</th>\n",
       "      <th>end_station_name</th>\n",
       "      <th>end_station_latitude</th>\n",
       "      <th>end_station_longitude</th>\n",
       "      <th>bike_id</th>\n",
       "      <th>user_type</th>\n",
       "      <th>member_birth_year</th>\n",
       "      <th>member_gender</th>\n",
       "    </tr>\n",
       "  </thead>\n",
       "  <tbody>\n",
       "    <tr>\n",
       "      <th>0</th>\n",
       "      <td>80110</td>\n",
       "      <td>2017-12-31 16:57:39.6540</td>\n",
       "      <td>2018-01-01 15:12:50.2450</td>\n",
       "      <td>74</td>\n",
       "      <td>Laguna St at Hayes St</td>\n",
       "      <td>37.776435</td>\n",
       "      <td>-122.426244</td>\n",
       "      <td>43</td>\n",
       "      <td>San Francisco Public Library (Grove St at Hyde...</td>\n",
       "      <td>37.778768</td>\n",
       "      <td>-122.415929</td>\n",
       "      <td>96</td>\n",
       "      <td>Customer</td>\n",
       "      <td>1987.0</td>\n",
       "      <td>Male</td>\n",
       "    </tr>\n",
       "    <tr>\n",
       "      <th>1</th>\n",
       "      <td>78800</td>\n",
       "      <td>2017-12-31 15:56:34.8420</td>\n",
       "      <td>2018-01-01 13:49:55.6170</td>\n",
       "      <td>284</td>\n",
       "      <td>Yerba Buena Center for the Arts (Howard St at ...</td>\n",
       "      <td>37.784872</td>\n",
       "      <td>-122.400876</td>\n",
       "      <td>96</td>\n",
       "      <td>Dolores St at 15th St</td>\n",
       "      <td>37.766210</td>\n",
       "      <td>-122.426614</td>\n",
       "      <td>88</td>\n",
       "      <td>Customer</td>\n",
       "      <td>1965.0</td>\n",
       "      <td>Female</td>\n",
       "    </tr>\n",
       "    <tr>\n",
       "      <th>2</th>\n",
       "      <td>45768</td>\n",
       "      <td>2017-12-31 22:45:48.4110</td>\n",
       "      <td>2018-01-01 11:28:36.8830</td>\n",
       "      <td>245</td>\n",
       "      <td>Downtown Berkeley BART</td>\n",
       "      <td>37.870348</td>\n",
       "      <td>-122.267764</td>\n",
       "      <td>245</td>\n",
       "      <td>Downtown Berkeley BART</td>\n",
       "      <td>37.870348</td>\n",
       "      <td>-122.267764</td>\n",
       "      <td>1094</td>\n",
       "      <td>Customer</td>\n",
       "      <td>NaN</td>\n",
       "      <td>NaN</td>\n",
       "    </tr>\n",
       "    <tr>\n",
       "      <th>3</th>\n",
       "      <td>62172</td>\n",
       "      <td>2017-12-31 17:31:10.6360</td>\n",
       "      <td>2018-01-01 10:47:23.5310</td>\n",
       "      <td>60</td>\n",
       "      <td>8th St at Ringold St</td>\n",
       "      <td>37.774520</td>\n",
       "      <td>-122.409449</td>\n",
       "      <td>5</td>\n",
       "      <td>Powell St BART Station (Market St at 5th St)</td>\n",
       "      <td>37.783899</td>\n",
       "      <td>-122.408445</td>\n",
       "      <td>2831</td>\n",
       "      <td>Customer</td>\n",
       "      <td>NaN</td>\n",
       "      <td>NaN</td>\n",
       "    </tr>\n",
       "    <tr>\n",
       "      <th>4</th>\n",
       "      <td>43603</td>\n",
       "      <td>2017-12-31 14:23:14.0010</td>\n",
       "      <td>2018-01-01 02:29:57.5710</td>\n",
       "      <td>239</td>\n",
       "      <td>Bancroft Way at Telegraph Ave</td>\n",
       "      <td>37.868813</td>\n",
       "      <td>-122.258764</td>\n",
       "      <td>247</td>\n",
       "      <td>Fulton St at Bancroft Way</td>\n",
       "      <td>37.867789</td>\n",
       "      <td>-122.265896</td>\n",
       "      <td>3167</td>\n",
       "      <td>Subscriber</td>\n",
       "      <td>1997.0</td>\n",
       "      <td>Female</td>\n",
       "    </tr>\n",
       "  </tbody>\n",
       "</table>\n",
       "</div>"
      ],
      "text/plain": [
       "   duration_sec                start_time                  end_time  \\\n",
       "0         80110  2017-12-31 16:57:39.6540  2018-01-01 15:12:50.2450   \n",
       "1         78800  2017-12-31 15:56:34.8420  2018-01-01 13:49:55.6170   \n",
       "2         45768  2017-12-31 22:45:48.4110  2018-01-01 11:28:36.8830   \n",
       "3         62172  2017-12-31 17:31:10.6360  2018-01-01 10:47:23.5310   \n",
       "4         43603  2017-12-31 14:23:14.0010  2018-01-01 02:29:57.5710   \n",
       "\n",
       "   start_station_id                                 start_station_name  \\\n",
       "0                74                              Laguna St at Hayes St   \n",
       "1               284  Yerba Buena Center for the Arts (Howard St at ...   \n",
       "2               245                             Downtown Berkeley BART   \n",
       "3                60                               8th St at Ringold St   \n",
       "4               239                      Bancroft Way at Telegraph Ave   \n",
       "\n",
       "   start_station_latitude  start_station_longitude  end_station_id  \\\n",
       "0               37.776435              -122.426244              43   \n",
       "1               37.784872              -122.400876              96   \n",
       "2               37.870348              -122.267764             245   \n",
       "3               37.774520              -122.409449               5   \n",
       "4               37.868813              -122.258764             247   \n",
       "\n",
       "                                    end_station_name  end_station_latitude  \\\n",
       "0  San Francisco Public Library (Grove St at Hyde...             37.778768   \n",
       "1                              Dolores St at 15th St             37.766210   \n",
       "2                             Downtown Berkeley BART             37.870348   \n",
       "3       Powell St BART Station (Market St at 5th St)             37.783899   \n",
       "4                          Fulton St at Bancroft Way             37.867789   \n",
       "\n",
       "   end_station_longitude  bike_id   user_type  member_birth_year member_gender  \n",
       "0            -122.415929       96    Customer             1987.0          Male  \n",
       "1            -122.426614       88    Customer             1965.0        Female  \n",
       "2            -122.267764     1094    Customer                NaN           NaN  \n",
       "3            -122.408445     2831    Customer                NaN           NaN  \n",
       "4            -122.265896     3167  Subscriber             1997.0        Female  "
      ]
     },
     "execution_count": 105,
     "metadata": {},
     "output_type": "execute_result"
    }
   ],
   "source": [
    "df_2017 = pd.read_csv('https://s3.amazonaws.com/fordgobike-data/2017-fordgobike-tripdata.csv',index_col=None, header=0)\n",
    "\n",
    "#cheack when read\n",
    "df_2017.head()"
   ]
  },
  {
   "cell_type": "code",
   "execution_count": 106,
   "metadata": {},
   "outputs": [],
   "source": [
    "# Save the 2017 data to CSV file \n",
    "df_2017.to_csv('./P7_files/2017-fordgobike-tripdata.csv', encoding='utf-8', index=False)"
   ]
  },
  {
   "cell_type": "code",
   "execution_count": 9,
   "metadata": {},
   "outputs": [],
   "source": [
    "# Create a function the get the 2018 data. \n",
    "def get2018datazip(url):\n",
    "    # FOR 12 MONTHS that we have for the fordgobike in 2018\n",
    "    for month in range(1,13):\n",
    "        month_string = str(month)\n",
    "        month_leading_zero: str = month_string.zfill(2)\n",
    "        ends_name = '-fordgobike-tripdata.csv.zip'\n",
    "        # the if statment is to include all 12 months\n",
    "        if '0' or '1' in month_leading_zero:\n",
    "            bike_data_url = url +month_leading_zero + ends_name\n",
    "            response = get(bike_data_url)\n",
    "            unzipped_file = ZipFile(BytesIO(response.content))\n",
    "            unzipped_file.extractall(data_files)"
   ]
  },
  {
   "cell_type": "code",
   "execution_count": 10,
   "metadata": {},
   "outputs": [],
   "source": [
    "# get the 2018 data from the zip files into CSV files.\n",
    "link_for2018 = 'https://s3.amazonaws.com/fordgobike-data/2018'\n",
    "get2018datazip(link_for2018)"
   ]
  },
  {
   "cell_type": "code",
   "execution_count": 11,
   "metadata": {},
   "outputs": [],
   "source": [
    "# Create a function the get the 2019 data. \n",
    "def get2019datazip(url):\n",
    "    # FOR 4 MONTHS that we have for the fordgobike in 2019\n",
    "    for month in range(1,5):\n",
    "        month_string = str(month)\n",
    "        month_leading_zero: str = month_string.zfill(2)\n",
    "        ends_name = '-fordgobike-tripdata.csv.zip'\n",
    "        if '0'in month_leading_zero:\n",
    "            bike_data_url = url +month_leading_zero + ends_name\n",
    "            response = get(bike_data_url)\n",
    "            unzipped_file = ZipFile(BytesIO(response.content))\n",
    "            unzipped_file.extractall(data_files)"
   ]
  },
  {
   "cell_type": "code",
   "execution_count": 12,
   "metadata": {},
   "outputs": [],
   "source": [
    "# get the 2019 data from the zip files into CSV files.\n",
    "\n",
    "link_for2019 = 'https://s3.amazonaws.com/fordgobike-data/2019'\n",
    "get2019datazip(link_for2019)"
   ]
  },
  {
   "cell_type": "code",
   "execution_count": 4,
   "metadata": {},
   "outputs": [],
   "source": [
    "# Get all the CSV files into one DataFrame. \n",
    "path = data_files # since this the same folder we just created\n",
    "files = glob.glob(os.path.join(path, \"*.csv\"))\n",
    "df = pd.concat((pd.read_csv(f) for f in files), ignore_index = True, sort=False)\n",
    "\n",
    "df.to_csv('master1.csv', index = False)"
   ]
  },
  {
   "cell_type": "markdown",
   "metadata": {},
   "source": [
    "## Asses the Data:"
   ]
  },
  {
   "cell_type": "code",
   "execution_count": 315,
   "metadata": {},
   "outputs": [],
   "source": [
    "df = pd.read_csv('master1.csv', low_memory=False) # the low memory is to avide Specify dtype option"
   ]
  },
  {
   "cell_type": "code",
   "execution_count": 316,
   "metadata": {},
   "outputs": [
    {
     "data": {
      "text/plain": [
       "(3254325, 16)"
      ]
     },
     "execution_count": 316,
     "metadata": {},
     "output_type": "execute_result"
    }
   ],
   "source": [
    "df.shape"
   ]
  },
  {
   "cell_type": "code",
   "execution_count": 317,
   "metadata": {},
   "outputs": [],
   "source": [
    "# Make a copy call it df_master to work with and so we don't have to read the CSV again\n",
    "df_master = df.copy()"
   ]
  },
  {
   "cell_type": "code",
   "execution_count": 318,
   "metadata": {},
   "outputs": [
    {
     "data": {
      "text/plain": [
       "(3254325, 16)"
      ]
     },
     "execution_count": 318,
     "metadata": {},
     "output_type": "execute_result"
    }
   ],
   "source": [
    "df_master.shape"
   ]
  },
  {
   "cell_type": "code",
   "execution_count": 319,
   "metadata": {},
   "outputs": [
    {
     "data": {
      "text/html": [
       "<div>\n",
       "<style scoped>\n",
       "    .dataframe tbody tr th:only-of-type {\n",
       "        vertical-align: middle;\n",
       "    }\n",
       "\n",
       "    .dataframe tbody tr th {\n",
       "        vertical-align: top;\n",
       "    }\n",
       "\n",
       "    .dataframe thead th {\n",
       "        text-align: right;\n",
       "    }\n",
       "</style>\n",
       "<table border=\"1\" class=\"dataframe\">\n",
       "  <thead>\n",
       "    <tr style=\"text-align: right;\">\n",
       "      <th></th>\n",
       "      <th>duration_sec</th>\n",
       "      <th>start_time</th>\n",
       "      <th>end_time</th>\n",
       "      <th>start_station_id</th>\n",
       "      <th>start_station_name</th>\n",
       "      <th>start_station_latitude</th>\n",
       "      <th>start_station_longitude</th>\n",
       "      <th>end_station_id</th>\n",
       "      <th>end_station_name</th>\n",
       "      <th>end_station_latitude</th>\n",
       "      <th>end_station_longitude</th>\n",
       "      <th>bike_id</th>\n",
       "      <th>user_type</th>\n",
       "      <th>member_birth_year</th>\n",
       "      <th>member_gender</th>\n",
       "      <th>bike_share_for_all_trip</th>\n",
       "    </tr>\n",
       "  </thead>\n",
       "  <tbody>\n",
       "    <tr>\n",
       "      <th>0</th>\n",
       "      <td>598</td>\n",
       "      <td>2018-02-28 23:59:47.0970</td>\n",
       "      <td>2018-03-01 00:09:45.1870</td>\n",
       "      <td>284.0</td>\n",
       "      <td>Yerba Buena Center for the Arts (Howard St at ...</td>\n",
       "      <td>37.784872</td>\n",
       "      <td>-122.400876</td>\n",
       "      <td>114.0</td>\n",
       "      <td>Rhode Island St at 17th St</td>\n",
       "      <td>37.764478</td>\n",
       "      <td>-122.402570</td>\n",
       "      <td>1035</td>\n",
       "      <td>Subscriber</td>\n",
       "      <td>1988.0</td>\n",
       "      <td>Male</td>\n",
       "      <td>No</td>\n",
       "    </tr>\n",
       "    <tr>\n",
       "      <th>1</th>\n",
       "      <td>943</td>\n",
       "      <td>2018-02-28 23:21:16.4950</td>\n",
       "      <td>2018-02-28 23:36:59.9740</td>\n",
       "      <td>6.0</td>\n",
       "      <td>The Embarcadero at Sansome St</td>\n",
       "      <td>37.804770</td>\n",
       "      <td>-122.403234</td>\n",
       "      <td>324.0</td>\n",
       "      <td>Union Square (Powell St at Post St)</td>\n",
       "      <td>37.788300</td>\n",
       "      <td>-122.408531</td>\n",
       "      <td>1673</td>\n",
       "      <td>Customer</td>\n",
       "      <td>1987.0</td>\n",
       "      <td>Male</td>\n",
       "      <td>No</td>\n",
       "    </tr>\n",
       "    <tr>\n",
       "      <th>2</th>\n",
       "      <td>18587</td>\n",
       "      <td>2018-02-28 18:20:55.1900</td>\n",
       "      <td>2018-02-28 23:30:42.9250</td>\n",
       "      <td>93.0</td>\n",
       "      <td>4th St at Mission Bay Blvd S</td>\n",
       "      <td>37.770407</td>\n",
       "      <td>-122.391198</td>\n",
       "      <td>15.0</td>\n",
       "      <td>San Francisco Ferry Building (Harry Bridges Pl...</td>\n",
       "      <td>37.795392</td>\n",
       "      <td>-122.394203</td>\n",
       "      <td>3498</td>\n",
       "      <td>Customer</td>\n",
       "      <td>1986.0</td>\n",
       "      <td>Female</td>\n",
       "      <td>No</td>\n",
       "    </tr>\n",
       "    <tr>\n",
       "      <th>3</th>\n",
       "      <td>18558</td>\n",
       "      <td>2018-02-28 18:20:53.6210</td>\n",
       "      <td>2018-02-28 23:30:12.4500</td>\n",
       "      <td>93.0</td>\n",
       "      <td>4th St at Mission Bay Blvd S</td>\n",
       "      <td>37.770407</td>\n",
       "      <td>-122.391198</td>\n",
       "      <td>15.0</td>\n",
       "      <td>San Francisco Ferry Building (Harry Bridges Pl...</td>\n",
       "      <td>37.795392</td>\n",
       "      <td>-122.394203</td>\n",
       "      <td>3129</td>\n",
       "      <td>Customer</td>\n",
       "      <td>1981.0</td>\n",
       "      <td>Male</td>\n",
       "      <td>No</td>\n",
       "    </tr>\n",
       "    <tr>\n",
       "      <th>4</th>\n",
       "      <td>885</td>\n",
       "      <td>2018-02-28 23:15:12.8580</td>\n",
       "      <td>2018-02-28 23:29:58.6080</td>\n",
       "      <td>308.0</td>\n",
       "      <td>San Pedro Square</td>\n",
       "      <td>37.336802</td>\n",
       "      <td>-121.894090</td>\n",
       "      <td>297.0</td>\n",
       "      <td>Locust St at Grant St</td>\n",
       "      <td>37.322980</td>\n",
       "      <td>-121.887931</td>\n",
       "      <td>1839</td>\n",
       "      <td>Subscriber</td>\n",
       "      <td>1976.0</td>\n",
       "      <td>Female</td>\n",
       "      <td>Yes</td>\n",
       "    </tr>\n",
       "  </tbody>\n",
       "</table>\n",
       "</div>"
      ],
      "text/plain": [
       "   duration_sec                start_time                  end_time  \\\n",
       "0           598  2018-02-28 23:59:47.0970  2018-03-01 00:09:45.1870   \n",
       "1           943  2018-02-28 23:21:16.4950  2018-02-28 23:36:59.9740   \n",
       "2         18587  2018-02-28 18:20:55.1900  2018-02-28 23:30:42.9250   \n",
       "3         18558  2018-02-28 18:20:53.6210  2018-02-28 23:30:12.4500   \n",
       "4           885  2018-02-28 23:15:12.8580  2018-02-28 23:29:58.6080   \n",
       "\n",
       "   start_station_id                                 start_station_name  \\\n",
       "0             284.0  Yerba Buena Center for the Arts (Howard St at ...   \n",
       "1               6.0                      The Embarcadero at Sansome St   \n",
       "2              93.0                       4th St at Mission Bay Blvd S   \n",
       "3              93.0                       4th St at Mission Bay Blvd S   \n",
       "4             308.0                                   San Pedro Square   \n",
       "\n",
       "   start_station_latitude  start_station_longitude  end_station_id  \\\n",
       "0               37.784872              -122.400876           114.0   \n",
       "1               37.804770              -122.403234           324.0   \n",
       "2               37.770407              -122.391198            15.0   \n",
       "3               37.770407              -122.391198            15.0   \n",
       "4               37.336802              -121.894090           297.0   \n",
       "\n",
       "                                    end_station_name  end_station_latitude  \\\n",
       "0                         Rhode Island St at 17th St             37.764478   \n",
       "1                Union Square (Powell St at Post St)             37.788300   \n",
       "2  San Francisco Ferry Building (Harry Bridges Pl...             37.795392   \n",
       "3  San Francisco Ferry Building (Harry Bridges Pl...             37.795392   \n",
       "4                              Locust St at Grant St             37.322980   \n",
       "\n",
       "   end_station_longitude  bike_id   user_type  member_birth_year  \\\n",
       "0            -122.402570     1035  Subscriber             1988.0   \n",
       "1            -122.408531     1673    Customer             1987.0   \n",
       "2            -122.394203     3498    Customer             1986.0   \n",
       "3            -122.394203     3129    Customer             1981.0   \n",
       "4            -121.887931     1839  Subscriber             1976.0   \n",
       "\n",
       "  member_gender bike_share_for_all_trip  \n",
       "0          Male                      No  \n",
       "1          Male                      No  \n",
       "2        Female                      No  \n",
       "3          Male                      No  \n",
       "4        Female                     Yes  "
      ]
     },
     "execution_count": 319,
     "metadata": {},
     "output_type": "execute_result"
    }
   ],
   "source": [
    "df_master.head()"
   ]
  },
  {
   "cell_type": "code",
   "execution_count": 320,
   "metadata": {},
   "outputs": [
    {
     "data": {
      "text/html": [
       "<div>\n",
       "<style scoped>\n",
       "    .dataframe tbody tr th:only-of-type {\n",
       "        vertical-align: middle;\n",
       "    }\n",
       "\n",
       "    .dataframe tbody tr th {\n",
       "        vertical-align: top;\n",
       "    }\n",
       "\n",
       "    .dataframe thead th {\n",
       "        text-align: right;\n",
       "    }\n",
       "</style>\n",
       "<table border=\"1\" class=\"dataframe\">\n",
       "  <thead>\n",
       "    <tr style=\"text-align: right;\">\n",
       "      <th></th>\n",
       "      <th>duration_sec</th>\n",
       "      <th>start_time</th>\n",
       "      <th>end_time</th>\n",
       "      <th>start_station_id</th>\n",
       "      <th>start_station_name</th>\n",
       "      <th>start_station_latitude</th>\n",
       "      <th>start_station_longitude</th>\n",
       "      <th>end_station_id</th>\n",
       "      <th>end_station_name</th>\n",
       "      <th>end_station_latitude</th>\n",
       "      <th>end_station_longitude</th>\n",
       "      <th>bike_id</th>\n",
       "      <th>user_type</th>\n",
       "      <th>member_birth_year</th>\n",
       "      <th>member_gender</th>\n",
       "      <th>bike_share_for_all_trip</th>\n",
       "    </tr>\n",
       "  </thead>\n",
       "  <tbody>\n",
       "    <tr>\n",
       "      <th>3254320</th>\n",
       "      <td>480</td>\n",
       "      <td>2019-02-01 00:04:49.7240</td>\n",
       "      <td>2019-02-01 00:12:50.0340</td>\n",
       "      <td>27.0</td>\n",
       "      <td>Beale St at Harrison St</td>\n",
       "      <td>37.788059</td>\n",
       "      <td>-122.391865</td>\n",
       "      <td>324.0</td>\n",
       "      <td>Union Square (Powell St at Post St)</td>\n",
       "      <td>37.788300</td>\n",
       "      <td>-122.408531</td>\n",
       "      <td>4832</td>\n",
       "      <td>Subscriber</td>\n",
       "      <td>1996.0</td>\n",
       "      <td>Male</td>\n",
       "      <td>No</td>\n",
       "    </tr>\n",
       "    <tr>\n",
       "      <th>3254321</th>\n",
       "      <td>313</td>\n",
       "      <td>2019-02-01 00:05:34.7440</td>\n",
       "      <td>2019-02-01 00:10:48.5020</td>\n",
       "      <td>21.0</td>\n",
       "      <td>Montgomery St BART Station (Market St at 2nd St)</td>\n",
       "      <td>37.789625</td>\n",
       "      <td>-122.400811</td>\n",
       "      <td>66.0</td>\n",
       "      <td>3rd St at Townsend St</td>\n",
       "      <td>37.778742</td>\n",
       "      <td>-122.392741</td>\n",
       "      <td>4960</td>\n",
       "      <td>Subscriber</td>\n",
       "      <td>1984.0</td>\n",
       "      <td>Male</td>\n",
       "      <td>No</td>\n",
       "    </tr>\n",
       "    <tr>\n",
       "      <th>3254322</th>\n",
       "      <td>141</td>\n",
       "      <td>2019-02-01 00:06:05.5490</td>\n",
       "      <td>2019-02-01 00:08:27.2200</td>\n",
       "      <td>278.0</td>\n",
       "      <td>The Alameda at Bush St</td>\n",
       "      <td>37.331932</td>\n",
       "      <td>-121.904888</td>\n",
       "      <td>277.0</td>\n",
       "      <td>Morrison Ave at Julian St</td>\n",
       "      <td>37.333658</td>\n",
       "      <td>-121.908586</td>\n",
       "      <td>3824</td>\n",
       "      <td>Subscriber</td>\n",
       "      <td>1990.0</td>\n",
       "      <td>Male</td>\n",
       "      <td>Yes</td>\n",
       "    </tr>\n",
       "    <tr>\n",
       "      <th>3254323</th>\n",
       "      <td>139</td>\n",
       "      <td>2019-02-01 00:05:34.3600</td>\n",
       "      <td>2019-02-01 00:07:54.2870</td>\n",
       "      <td>220.0</td>\n",
       "      <td>San Pablo Ave at MLK Jr Way</td>\n",
       "      <td>37.811351</td>\n",
       "      <td>-122.273422</td>\n",
       "      <td>216.0</td>\n",
       "      <td>San Pablo Ave at 27th St</td>\n",
       "      <td>37.817827</td>\n",
       "      <td>-122.275698</td>\n",
       "      <td>5095</td>\n",
       "      <td>Subscriber</td>\n",
       "      <td>1988.0</td>\n",
       "      <td>Male</td>\n",
       "      <td>No</td>\n",
       "    </tr>\n",
       "    <tr>\n",
       "      <th>3254324</th>\n",
       "      <td>271</td>\n",
       "      <td>2019-02-01 00:00:20.6360</td>\n",
       "      <td>2019-02-01 00:04:52.0580</td>\n",
       "      <td>24.0</td>\n",
       "      <td>Spear St at Folsom St</td>\n",
       "      <td>37.789677</td>\n",
       "      <td>-122.390428</td>\n",
       "      <td>37.0</td>\n",
       "      <td>2nd St at Folsom St</td>\n",
       "      <td>37.785000</td>\n",
       "      <td>-122.395936</td>\n",
       "      <td>1057</td>\n",
       "      <td>Subscriber</td>\n",
       "      <td>1989.0</td>\n",
       "      <td>Male</td>\n",
       "      <td>No</td>\n",
       "    </tr>\n",
       "  </tbody>\n",
       "</table>\n",
       "</div>"
      ],
      "text/plain": [
       "         duration_sec                start_time                  end_time  \\\n",
       "3254320           480  2019-02-01 00:04:49.7240  2019-02-01 00:12:50.0340   \n",
       "3254321           313  2019-02-01 00:05:34.7440  2019-02-01 00:10:48.5020   \n",
       "3254322           141  2019-02-01 00:06:05.5490  2019-02-01 00:08:27.2200   \n",
       "3254323           139  2019-02-01 00:05:34.3600  2019-02-01 00:07:54.2870   \n",
       "3254324           271  2019-02-01 00:00:20.6360  2019-02-01 00:04:52.0580   \n",
       "\n",
       "         start_station_id                                start_station_name  \\\n",
       "3254320              27.0                           Beale St at Harrison St   \n",
       "3254321              21.0  Montgomery St BART Station (Market St at 2nd St)   \n",
       "3254322             278.0                            The Alameda at Bush St   \n",
       "3254323             220.0                       San Pablo Ave at MLK Jr Way   \n",
       "3254324              24.0                             Spear St at Folsom St   \n",
       "\n",
       "         start_station_latitude  start_station_longitude  end_station_id  \\\n",
       "3254320               37.788059              -122.391865           324.0   \n",
       "3254321               37.789625              -122.400811            66.0   \n",
       "3254322               37.331932              -121.904888           277.0   \n",
       "3254323               37.811351              -122.273422           216.0   \n",
       "3254324               37.789677              -122.390428            37.0   \n",
       "\n",
       "                            end_station_name  end_station_latitude  \\\n",
       "3254320  Union Square (Powell St at Post St)             37.788300   \n",
       "3254321                3rd St at Townsend St             37.778742   \n",
       "3254322            Morrison Ave at Julian St             37.333658   \n",
       "3254323             San Pablo Ave at 27th St             37.817827   \n",
       "3254324                  2nd St at Folsom St             37.785000   \n",
       "\n",
       "         end_station_longitude  bike_id   user_type  member_birth_year  \\\n",
       "3254320            -122.408531     4832  Subscriber             1996.0   \n",
       "3254321            -122.392741     4960  Subscriber             1984.0   \n",
       "3254322            -121.908586     3824  Subscriber             1990.0   \n",
       "3254323            -122.275698     5095  Subscriber             1988.0   \n",
       "3254324            -122.395936     1057  Subscriber             1989.0   \n",
       "\n",
       "        member_gender bike_share_for_all_trip  \n",
       "3254320          Male                      No  \n",
       "3254321          Male                      No  \n",
       "3254322          Male                     Yes  \n",
       "3254323          Male                      No  \n",
       "3254324          Male                      No  "
      ]
     },
     "execution_count": 320,
     "metadata": {},
     "output_type": "execute_result"
    }
   ],
   "source": [
    "df_master.tail()"
   ]
  },
  {
   "cell_type": "code",
   "execution_count": 321,
   "metadata": {},
   "outputs": [
    {
     "name": "stdout",
     "output_type": "stream",
     "text": [
      "<class 'pandas.core.frame.DataFrame'>\n",
      "RangeIndex: 3254325 entries, 0 to 3254324\n",
      "Data columns (total 16 columns):\n",
      "duration_sec               int64\n",
      "start_time                 object\n",
      "end_time                   object\n",
      "start_station_id           float64\n",
      "start_station_name         object\n",
      "start_station_latitude     float64\n",
      "start_station_longitude    float64\n",
      "end_station_id             float64\n",
      "end_station_name           object\n",
      "end_station_latitude       float64\n",
      "end_station_longitude      float64\n",
      "bike_id                    int64\n",
      "user_type                  object\n",
      "member_birth_year          float64\n",
      "member_gender              object\n",
      "bike_share_for_all_trip    object\n",
      "dtypes: float64(7), int64(2), object(7)\n",
      "memory usage: 397.3+ MB\n"
     ]
    }
   ],
   "source": [
    "df_master.info()"
   ]
  },
  {
   "cell_type": "code",
   "execution_count": 322,
   "metadata": {},
   "outputs": [
    {
     "data": {
      "text/plain": [
       "0"
      ]
     },
     "execution_count": 322,
     "metadata": {},
     "output_type": "execute_result"
    }
   ],
   "source": [
    "sum(df_master.duplicated())"
   ]
  },
  {
   "cell_type": "code",
   "execution_count": 323,
   "metadata": {},
   "outputs": [
    {
     "data": {
      "text/plain": [
       "duration_sec                    0\n",
       "start_time                      0\n",
       "end_time                        0\n",
       "start_station_id            12501\n",
       "start_station_name          12501\n",
       "start_station_latitude          0\n",
       "start_station_longitude         0\n",
       "end_station_id              12501\n",
       "end_station_name            12501\n",
       "end_station_latitude            0\n",
       "end_station_longitude           0\n",
       "bike_id                         0\n",
       "user_type                       0\n",
       "member_birth_year          218166\n",
       "member_gender              217733\n",
       "bike_share_for_all_trip    519700\n",
       "dtype: int64"
      ]
     },
     "execution_count": 323,
     "metadata": {},
     "output_type": "execute_result"
    }
   ],
   "source": [
    "df_master.isna().sum()"
   ]
  },
  {
   "cell_type": "code",
   "execution_count": 324,
   "metadata": {},
   "outputs": [
    {
     "data": {
      "text/html": [
       "<div>\n",
       "<style scoped>\n",
       "    .dataframe tbody tr th:only-of-type {\n",
       "        vertical-align: middle;\n",
       "    }\n",
       "\n",
       "    .dataframe tbody tr th {\n",
       "        vertical-align: top;\n",
       "    }\n",
       "\n",
       "    .dataframe thead th {\n",
       "        text-align: right;\n",
       "    }\n",
       "</style>\n",
       "<table border=\"1\" class=\"dataframe\">\n",
       "  <thead>\n",
       "    <tr style=\"text-align: right;\">\n",
       "      <th></th>\n",
       "      <th>duration_sec</th>\n",
       "      <th>start_station_id</th>\n",
       "      <th>start_station_latitude</th>\n",
       "      <th>start_station_longitude</th>\n",
       "      <th>end_station_id</th>\n",
       "      <th>end_station_latitude</th>\n",
       "      <th>end_station_longitude</th>\n",
       "      <th>bike_id</th>\n",
       "      <th>member_birth_year</th>\n",
       "    </tr>\n",
       "  </thead>\n",
       "  <tbody>\n",
       "    <tr>\n",
       "      <th>count</th>\n",
       "      <td>3.254325e+06</td>\n",
       "      <td>3.241824e+06</td>\n",
       "      <td>3.254325e+06</td>\n",
       "      <td>3.254325e+06</td>\n",
       "      <td>3.241824e+06</td>\n",
       "      <td>3.254325e+06</td>\n",
       "      <td>3.254325e+06</td>\n",
       "      <td>3.254325e+06</td>\n",
       "      <td>3.036159e+06</td>\n",
       "    </tr>\n",
       "    <tr>\n",
       "      <th>mean</th>\n",
       "      <td>8.743223e+02</td>\n",
       "      <td>1.209191e+02</td>\n",
       "      <td>3.776880e+01</td>\n",
       "      <td>-1.223530e+02</td>\n",
       "      <td>1.191966e+02</td>\n",
       "      <td>3.776874e+01</td>\n",
       "      <td>-1.223519e+02</td>\n",
       "      <td>2.729018e+03</td>\n",
       "      <td>1.983137e+03</td>\n",
       "    </tr>\n",
       "    <tr>\n",
       "      <th>std</th>\n",
       "      <td>2.468547e+03</td>\n",
       "      <td>1.030184e+02</td>\n",
       "      <td>1.029275e-01</td>\n",
       "      <td>1.601559e-01</td>\n",
       "      <td>1.029334e+02</td>\n",
       "      <td>1.342571e-01</td>\n",
       "      <td>3.220803e-01</td>\n",
       "      <td>1.724443e+03</td>\n",
       "      <td>1.043760e+01</td>\n",
       "    </tr>\n",
       "    <tr>\n",
       "      <th>min</th>\n",
       "      <td>6.100000e+01</td>\n",
       "      <td>3.000000e+00</td>\n",
       "      <td>0.000000e+00</td>\n",
       "      <td>-1.224737e+02</td>\n",
       "      <td>3.000000e+00</td>\n",
       "      <td>0.000000e+00</td>\n",
       "      <td>-1.224737e+02</td>\n",
       "      <td>1.000000e+01</td>\n",
       "      <td>1.878000e+03</td>\n",
       "    </tr>\n",
       "    <tr>\n",
       "      <th>25%</th>\n",
       "      <td>3.510000e+02</td>\n",
       "      <td>3.100000e+01</td>\n",
       "      <td>3.777106e+01</td>\n",
       "      <td>-1.224117e+02</td>\n",
       "      <td>3.000000e+01</td>\n",
       "      <td>3.777143e+01</td>\n",
       "      <td>-1.224108e+02</td>\n",
       "      <td>1.336000e+03</td>\n",
       "      <td>1.978000e+03</td>\n",
       "    </tr>\n",
       "    <tr>\n",
       "      <th>50%</th>\n",
       "      <td>5.570000e+02</td>\n",
       "      <td>8.800000e+01</td>\n",
       "      <td>3.778107e+01</td>\n",
       "      <td>-1.223983e+02</td>\n",
       "      <td>8.700000e+01</td>\n",
       "      <td>3.778127e+01</td>\n",
       "      <td>-1.223974e+02</td>\n",
       "      <td>2.579000e+03</td>\n",
       "      <td>1.985000e+03</td>\n",
       "    </tr>\n",
       "    <tr>\n",
       "      <th>75%</th>\n",
       "      <td>8.730000e+02</td>\n",
       "      <td>1.880000e+02</td>\n",
       "      <td>3.779539e+01</td>\n",
       "      <td>-1.222934e+02</td>\n",
       "      <td>1.860000e+02</td>\n",
       "      <td>3.779625e+01</td>\n",
       "      <td>-1.222935e+02</td>\n",
       "      <td>3.821000e+03</td>\n",
       "      <td>1.991000e+03</td>\n",
       "    </tr>\n",
       "    <tr>\n",
       "      <th>max</th>\n",
       "      <td>8.636900e+04</td>\n",
       "      <td>4.200000e+02</td>\n",
       "      <td>4.551000e+01</td>\n",
       "      <td>0.000000e+00</td>\n",
       "      <td>4.200000e+02</td>\n",
       "      <td>4.551000e+01</td>\n",
       "      <td>0.000000e+00</td>\n",
       "      <td>7.108000e+03</td>\n",
       "      <td>2.001000e+03</td>\n",
       "    </tr>\n",
       "  </tbody>\n",
       "</table>\n",
       "</div>"
      ],
      "text/plain": [
       "       duration_sec  start_station_id  start_station_latitude  \\\n",
       "count  3.254325e+06      3.241824e+06            3.254325e+06   \n",
       "mean   8.743223e+02      1.209191e+02            3.776880e+01   \n",
       "std    2.468547e+03      1.030184e+02            1.029275e-01   \n",
       "min    6.100000e+01      3.000000e+00            0.000000e+00   \n",
       "25%    3.510000e+02      3.100000e+01            3.777106e+01   \n",
       "50%    5.570000e+02      8.800000e+01            3.778107e+01   \n",
       "75%    8.730000e+02      1.880000e+02            3.779539e+01   \n",
       "max    8.636900e+04      4.200000e+02            4.551000e+01   \n",
       "\n",
       "       start_station_longitude  end_station_id  end_station_latitude  \\\n",
       "count             3.254325e+06    3.241824e+06          3.254325e+06   \n",
       "mean             -1.223530e+02    1.191966e+02          3.776874e+01   \n",
       "std               1.601559e-01    1.029334e+02          1.342571e-01   \n",
       "min              -1.224737e+02    3.000000e+00          0.000000e+00   \n",
       "25%              -1.224117e+02    3.000000e+01          3.777143e+01   \n",
       "50%              -1.223983e+02    8.700000e+01          3.778127e+01   \n",
       "75%              -1.222934e+02    1.860000e+02          3.779625e+01   \n",
       "max               0.000000e+00    4.200000e+02          4.551000e+01   \n",
       "\n",
       "       end_station_longitude       bike_id  member_birth_year  \n",
       "count           3.254325e+06  3.254325e+06       3.036159e+06  \n",
       "mean           -1.223519e+02  2.729018e+03       1.983137e+03  \n",
       "std             3.220803e-01  1.724443e+03       1.043760e+01  \n",
       "min            -1.224737e+02  1.000000e+01       1.878000e+03  \n",
       "25%            -1.224108e+02  1.336000e+03       1.978000e+03  \n",
       "50%            -1.223974e+02  2.579000e+03       1.985000e+03  \n",
       "75%            -1.222935e+02  3.821000e+03       1.991000e+03  \n",
       "max             0.000000e+00  7.108000e+03       2.001000e+03  "
      ]
     },
     "execution_count": 324,
     "metadata": {},
     "output_type": "execute_result"
    }
   ],
   "source": [
    "df_master.describe()"
   ]
  },
  {
   "cell_type": "code",
   "execution_count": 325,
   "metadata": {},
   "outputs": [
    {
     "name": "stdout",
     "output_type": "stream",
     "text": [
      "<class 'pandas.core.frame.DataFrame'>\n",
      "RangeIndex: 3254325 entries, 0 to 3254324\n",
      "Data columns (total 16 columns):\n",
      "duration_sec               int64\n",
      "start_time                 object\n",
      "end_time                   object\n",
      "start_station_id           float64\n",
      "start_station_name         object\n",
      "start_station_latitude     float64\n",
      "start_station_longitude    float64\n",
      "end_station_id             float64\n",
      "end_station_name           object\n",
      "end_station_latitude       float64\n",
      "end_station_longitude      float64\n",
      "bike_id                    int64\n",
      "user_type                  object\n",
      "member_birth_year          float64\n",
      "member_gender              object\n",
      "bike_share_for_all_trip    object\n",
      "dtypes: float64(7), int64(2), object(7)\n",
      "memory usage: 397.3+ MB\n"
     ]
    }
   ],
   "source": [
    "df_master.info()"
   ]
  },
  {
   "cell_type": "code",
   "execution_count": 326,
   "metadata": {},
   "outputs": [
    {
     "data": {
      "text/plain": [
       "3254325"
      ]
     },
     "execution_count": 326,
     "metadata": {},
     "output_type": "execute_result"
    }
   ],
   "source": [
    "## How many rider that we have. \n",
    "df_master['bike_id'].count()"
   ]
  },
  {
   "cell_type": "code",
   "execution_count": 327,
   "metadata": {},
   "outputs": [
    {
     "data": {
      "text/plain": [
       "1299188    2572\n",
       "Name: bike_id, dtype: int64"
      ]
     },
     "execution_count": 327,
     "metadata": {},
     "output_type": "execute_result"
    }
   ],
   "source": [
    "df_master.bike_id.sample()"
   ]
  },
  {
   "cell_type": "code",
   "execution_count": 328,
   "metadata": {},
   "outputs": [
    {
     "data": {
      "text/plain": [
       "6930"
      ]
     },
     "execution_count": 328,
     "metadata": {},
     "output_type": "execute_result"
    }
   ],
   "source": [
    "# we have 6930 unique bike ids\n",
    "df_master.bike_id.nunique()"
   ]
  },
  {
   "cell_type": "code",
   "execution_count": 329,
   "metadata": {},
   "outputs": [
    {
     "data": {
      "text/plain": [
       "4452"
      ]
     },
     "execution_count": 329,
     "metadata": {},
     "output_type": "execute_result"
    }
   ],
   "source": [
    "# to get the most freequant id biker\n",
    "df_master['bike_id'].value_counts().idxmax()"
   ]
  },
  {
   "cell_type": "code",
   "execution_count": 330,
   "metadata": {},
   "outputs": [
    {
     "data": {
      "text/plain": [
       "30534    Subscriber\n",
       "Name: user_type, dtype: object"
      ]
     },
     "execution_count": 330,
     "metadata": {},
     "output_type": "execute_result"
    }
   ],
   "source": [
    "# A sample of the user type\n",
    "df_master.user_type.sample()"
   ]
  },
  {
   "cell_type": "code",
   "execution_count": 331,
   "metadata": {},
   "outputs": [
    {
     "data": {
      "text/plain": [
       "array(['Subscriber', 'Customer'], dtype=object)"
      ]
     },
     "execution_count": 331,
     "metadata": {},
     "output_type": "execute_result"
    }
   ],
   "source": [
    "# print the user types\n",
    "df_master.user_type.unique()"
   ]
  },
  {
   "cell_type": "markdown",
   "metadata": {},
   "source": [
    "##### The next step: \n",
    "1. Calculate the age\n",
    "2. Create a reasonable group of age\n",
    "3. Remove the outliers\n",
    "4. Change the data type to appropriate one.\n",
    "\n"
   ]
  },
  {
   "cell_type": "markdown",
   "metadata": {},
   "source": [
    "### Clean the Data:"
   ]
  },
  {
   "cell_type": "code",
   "execution_count": 332,
   "metadata": {},
   "outputs": [],
   "source": [
    "# Add a new column that has the member age\n",
    "df_master['member_age'] = 2019-df_master['member_birth_year']"
   ]
  },
  {
   "cell_type": "code",
   "execution_count": 333,
   "metadata": {},
   "outputs": [
    {
     "data": {
      "text/plain": [
       "1273325    23.0\n",
       "Name: member_age, dtype: float64"
      ]
     },
     "execution_count": 333,
     "metadata": {},
     "output_type": "execute_result"
    }
   ],
   "source": [
    "df_master.member_age.sample()"
   ]
  },
  {
   "cell_type": "code",
   "execution_count": 334,
   "metadata": {},
   "outputs": [
    {
     "data": {
      "text/plain": [
       "141.0"
      ]
     },
     "execution_count": 334,
     "metadata": {},
     "output_type": "execute_result"
    }
   ],
   "source": [
    "df_master.member_age.max()"
   ]
  },
  {
   "cell_type": "code",
   "execution_count": 335,
   "metadata": {},
   "outputs": [
    {
     "data": {
      "text/plain": [
       "18.0"
      ]
     },
     "execution_count": 335,
     "metadata": {},
     "output_type": "execute_result"
    }
   ],
   "source": [
    "df_master.member_age.min()"
   ]
  },
  {
   "cell_type": "code",
   "execution_count": 336,
   "metadata": {},
   "outputs": [
    {
     "data": {
      "text/plain": [
       "35.86324596307374"
      ]
     },
     "execution_count": 336,
     "metadata": {},
     "output_type": "execute_result"
    }
   ],
   "source": [
    "df_master['member_age'].mean()\n"
   ]
  },
  {
   "cell_type": "code",
   "execution_count": 337,
   "metadata": {},
   "outputs": [
    {
     "data": {
      "text/plain": [
       "count    3.036159e+06\n",
       "mean     3.586325e+01\n",
       "std      1.043760e+01\n",
       "min      1.800000e+01\n",
       "25%      2.800000e+01\n",
       "50%      3.400000e+01\n",
       "75%      4.100000e+01\n",
       "max      1.410000e+02\n",
       "Name: member_age, dtype: float64"
      ]
     },
     "execution_count": 337,
     "metadata": {},
     "output_type": "execute_result"
    }
   ],
   "source": [
    "df_master.member_age.describe()"
   ]
  },
  {
   "cell_type": "code",
   "execution_count": 338,
   "metadata": {},
   "outputs": [
    {
     "data": {
      "image/png": "[encoded data removed]",
      "text/plain": [
       "<Figure size 720x288 with 1 Axes>"
      ]
     },
     "metadata": {
      "needs_background": "light"
     },
     "output_type": "display_data"
    }
   ],
   "source": [
    "plt.figure(figsize=(10,4))\n",
    "x = sns.boxplot(x='member_age', data=df_master, color='darkcyan')\n",
    "x.set_title(\"The age distribution of Ford GoBike users\", fontsize=14,y=1.03,fontweight='bold')\n",
    "plt.xlabel(\"The Age of bike riders\", fontsize=14,fontweight='bold', labelpad=10);\n"
   ]
  },
  {
   "cell_type": "markdown",
   "metadata": {},
   "source": [
    "##### Looks like the oldest age we have is 141 years old and the minimum is 18 years old. and what above 60 years old consider outliers since the the average is 35 years old. But that means removing about 77k records  as you see below. "
   ]
  },
  {
   "cell_type": "code",
   "execution_count": 339,
   "metadata": {},
   "outputs": [
    {
     "data": {
      "text/plain": [
       "(77055, 17)"
      ]
     },
     "execution_count": 339,
     "metadata": {},
     "output_type": "execute_result"
    }
   ],
   "source": [
    "df_age = df_master.query('member_age >60')\n",
    "df_age.shape"
   ]
  },
  {
   "cell_type": "code",
   "execution_count": 340,
   "metadata": {},
   "outputs": [
    {
     "data": {
      "text/plain": [
       "(3254325, 17)"
      ]
     },
     "execution_count": 340,
     "metadata": {},
     "output_type": "execute_result"
    }
   ],
   "source": [
    "df_master.shape"
   ]
  },
  {
   "cell_type": "code",
   "execution_count": 341,
   "metadata": {},
   "outputs": [],
   "source": [
    "# Keep records below 60, it automatically removes null values\n",
    "df_master = df_master.query('member_age <=60')"
   ]
  },
  {
   "cell_type": "code",
   "execution_count": 342,
   "metadata": {},
   "outputs": [
    {
     "data": {
      "text/plain": [
       "18.0"
      ]
     },
     "execution_count": 342,
     "metadata": {},
     "output_type": "execute_result"
    }
   ],
   "source": [
    "df_master.member_age.min()"
   ]
  },
  {
   "cell_type": "code",
   "execution_count": 343,
   "metadata": {},
   "outputs": [
    {
     "data": {
      "text/plain": [
       "35.04999858065144"
      ]
     },
     "execution_count": 343,
     "metadata": {},
     "output_type": "execute_result"
    }
   ],
   "source": [
    "df_master['member_age'].mean()"
   ]
  },
  {
   "cell_type": "code",
   "execution_count": 344,
   "metadata": {},
   "outputs": [
    {
     "data": {
      "image/png": "[encoded data removed]",
      "text/plain": [
       "<Figure size 720x288 with 1 Axes>"
      ]
     },
     "metadata": {
      "needs_background": "light"
     },
     "output_type": "display_data"
    }
   ],
   "source": [
    "# The boxplot after removing the ages more than 60 years old\n",
    "plt.figure(figsize=(10,4))\n",
    "x = sns.boxplot(x='member_age', data=df_master, color='darkcyan')\n",
    "x.set_title(\"The age distribution of Ford GoBike users\", fontsize=14,y=1.03,fontweight='bold')\n",
    "plt.xlabel(\"The Age of bike riders\", fontsize=14,fontweight='bold', labelpad=10);\n"
   ]
  },
  {
   "cell_type": "code",
   "execution_count": 345,
   "metadata": {},
   "outputs": [],
   "source": [
    "#Generate a new field for member age group from member_age_bin\n",
    "df_master['member_age_bins'] = df_master['member_age'].apply(lambda x: '10 - 20' if 10<x<=20\n",
    "                                                  else '20 - 30' if 20<x<=30\n",
    "                                                  else '30 - 40' if 30<x<=40\n",
    "                                                  else '40 - 50' if 40<x<=50\n",
    "                                                  else '50 - 60' if 50<x<=60\n",
    "                                                  else x)"
   ]
  },
  {
   "cell_type": "code",
   "execution_count": 346,
   "metadata": {},
   "outputs": [
    {
     "name": "stdout",
     "output_type": "stream",
     "text": [
      "<class 'pandas.core.frame.DataFrame'>\n",
      "Int64Index: 2959104 entries, 0 to 3254324\n",
      "Data columns (total 18 columns):\n",
      "duration_sec               int64\n",
      "start_time                 object\n",
      "end_time                   object\n",
      "start_station_id           float64\n",
      "start_station_name         object\n",
      "start_station_latitude     float64\n",
      "start_station_longitude    float64\n",
      "end_station_id             float64\n",
      "end_station_name           object\n",
      "end_station_latitude       float64\n",
      "end_station_longitude      float64\n",
      "bike_id                    int64\n",
      "user_type                  object\n",
      "member_birth_year          float64\n",
      "member_gender              object\n",
      "bike_share_for_all_trip    object\n",
      "member_age                 float64\n",
      "member_age_bins            object\n",
      "dtypes: float64(8), int64(2), object(8)\n",
      "memory usage: 428.9+ MB\n"
     ]
    }
   ],
   "source": [
    "df_master.info()"
   ]
  },
  {
   "cell_type": "code",
   "execution_count": 347,
   "metadata": {},
   "outputs": [],
   "source": [
    "# change age and birth year to integer\n",
    "df_master.member_age = df_master.member_age.astype(int)\n",
    "df_master.member_birth_year = df_master.member_birth_year.astype(int)"
   ]
  },
  {
   "cell_type": "code",
   "execution_count": 348,
   "metadata": {},
   "outputs": [],
   "source": [
    "# change the start time to datetime data type\n",
    "df_master.start_time = pd.to_datetime(df_master.start_time)\n",
    "df_master.end_time = pd.to_datetime(df_master.end_time)"
   ]
  },
  {
   "cell_type": "code",
   "execution_count": 349,
   "metadata": {},
   "outputs": [],
   "source": [
    "# change the  user type, gender and bike_share_for_all_trip to category\n",
    "df_master.user_type = df_master.user_type.astype('category')\n",
    "df_master.member_gender = df_master.member_gender.astype('category')\n",
    "df_master.bike_share_for_all_trip = df_master.bike_share_for_all_trip.astype('category')"
   ]
  },
  {
   "cell_type": "code",
   "execution_count": 350,
   "metadata": {},
   "outputs": [],
   "source": [
    "# change bike id, start_station_id, end_station_id to object\n",
    "df_master.bike_id = df_master.bike_id.astype(str)\n",
    "df_master.start_station_id = df_master.bike_id.astype(str)\n",
    "df_master.end_station_id = df_master.bike_id.astype(str)"
   ]
  },
  {
   "cell_type": "code",
   "execution_count": 351,
   "metadata": {},
   "outputs": [],
   "source": [
    "# get start time month name\n",
    "df_master['start_time_month_name']=df_master['start_time'].dt.strftime('%B')"
   ]
  },
  {
   "cell_type": "code",
   "execution_count": 352,
   "metadata": {},
   "outputs": [],
   "source": [
    "# get start time month number\n",
    "df_master['start_time_month']=df_master['start_time'].dt.month.astype(int)"
   ]
  },
  {
   "cell_type": "code",
   "execution_count": 353,
   "metadata": {},
   "outputs": [],
   "source": [
    "# get start time weekdays\n",
    "df_master['start_time_weekday']=df_master['start_time'].dt.strftime('%a')"
   ]
  },
  {
   "cell_type": "code",
   "execution_count": 354,
   "metadata": {},
   "outputs": [],
   "source": [
    "# get start time day\n",
    "df_master['start_time_day']=df_master['start_time'].dt.day.astype(int)"
   ]
  },
  {
   "cell_type": "code",
   "execution_count": 355,
   "metadata": {},
   "outputs": [],
   "source": [
    "# get start time hour\n",
    "df_master['start_time_hour']=df_master['start_time'].dt.hour\n"
   ]
  },
  {
   "cell_type": "code",
   "execution_count": 356,
   "metadata": {},
   "outputs": [
    {
     "name": "stdout",
     "output_type": "stream",
     "text": [
      "<class 'pandas.core.frame.DataFrame'>\n",
      "Int64Index: 2959104 entries, 0 to 3254324\n",
      "Data columns (total 23 columns):\n",
      "duration_sec               int64\n",
      "start_time                 datetime64[ns]\n",
      "end_time                   datetime64[ns]\n",
      "start_station_id           object\n",
      "start_station_name         object\n",
      "start_station_latitude     float64\n",
      "start_station_longitude    float64\n",
      "end_station_id             object\n",
      "end_station_name           object\n",
      "end_station_latitude       float64\n",
      "end_station_longitude      float64\n",
      "bike_id                    object\n",
      "user_type                  category\n",
      "member_birth_year          int64\n",
      "member_gender              category\n",
      "bike_share_for_all_trip    category\n",
      "member_age                 int64\n",
      "member_age_bins            object\n",
      "start_time_month_name      object\n",
      "start_time_month           int64\n",
      "start_time_weekday         object\n",
      "start_time_day             int64\n",
      "start_time_hour            int64\n",
      "dtypes: category(3), datetime64[ns](2), float64(4), int64(6), object(8)\n",
      "memory usage: 482.6+ MB\n"
     ]
    }
   ],
   "source": [
    "df_master.info()"
   ]
  },
  {
   "cell_type": "code",
   "execution_count": 357,
   "metadata": {},
   "outputs": [
    {
     "data": {
      "text/html": [
       "<div>\n",
       "<style scoped>\n",
       "    .dataframe tbody tr th:only-of-type {\n",
       "        vertical-align: middle;\n",
       "    }\n",
       "\n",
       "    .dataframe tbody tr th {\n",
       "        vertical-align: top;\n",
       "    }\n",
       "\n",
       "    .dataframe thead th {\n",
       "        text-align: right;\n",
       "    }\n",
       "</style>\n",
       "<table border=\"1\" class=\"dataframe\">\n",
       "  <thead>\n",
       "    <tr style=\"text-align: right;\">\n",
       "      <th></th>\n",
       "      <th>duration_sec</th>\n",
       "      <th>start_time</th>\n",
       "      <th>end_time</th>\n",
       "      <th>start_station_id</th>\n",
       "      <th>start_station_name</th>\n",
       "      <th>start_station_latitude</th>\n",
       "      <th>start_station_longitude</th>\n",
       "      <th>end_station_id</th>\n",
       "      <th>end_station_name</th>\n",
       "      <th>end_station_latitude</th>\n",
       "      <th>...</th>\n",
       "      <th>member_birth_year</th>\n",
       "      <th>member_gender</th>\n",
       "      <th>bike_share_for_all_trip</th>\n",
       "      <th>member_age</th>\n",
       "      <th>member_age_bins</th>\n",
       "      <th>start_time_month_name</th>\n",
       "      <th>start_time_month</th>\n",
       "      <th>start_time_weekday</th>\n",
       "      <th>start_time_day</th>\n",
       "      <th>start_time_hour</th>\n",
       "    </tr>\n",
       "  </thead>\n",
       "  <tbody>\n",
       "    <tr>\n",
       "      <th>2360607</th>\n",
       "      <td>620</td>\n",
       "      <td>2018-07-12 21:22:49.491</td>\n",
       "      <td>2018-07-12 21:33:10.349</td>\n",
       "      <td>2663</td>\n",
       "      <td>The Embarcadero at Sansome St</td>\n",
       "      <td>37.80477</td>\n",
       "      <td>-122.403234</td>\n",
       "      <td>2663</td>\n",
       "      <td>Steuart St at Market St</td>\n",
       "      <td>37.79413</td>\n",
       "      <td>...</td>\n",
       "      <td>1981</td>\n",
       "      <td>Female</td>\n",
       "      <td>No</td>\n",
       "      <td>38</td>\n",
       "      <td>30 - 40</td>\n",
       "      <td>July</td>\n",
       "      <td>7</td>\n",
       "      <td>Thu</td>\n",
       "      <td>12</td>\n",
       "      <td>21</td>\n",
       "    </tr>\n",
       "  </tbody>\n",
       "</table>\n",
       "<p>1 rows × 23 columns</p>\n",
       "</div>"
      ],
      "text/plain": [
       "         duration_sec              start_time                end_time  \\\n",
       "2360607           620 2018-07-12 21:22:49.491 2018-07-12 21:33:10.349   \n",
       "\n",
       "        start_station_id             start_station_name  \\\n",
       "2360607             2663  The Embarcadero at Sansome St   \n",
       "\n",
       "         start_station_latitude  start_station_longitude end_station_id  \\\n",
       "2360607                37.80477              -122.403234           2663   \n",
       "\n",
       "                end_station_name  end_station_latitude  ...  \\\n",
       "2360607  Steuart St at Market St              37.79413  ...   \n",
       "\n",
       "         member_birth_year member_gender bike_share_for_all_trip  member_age  \\\n",
       "2360607               1981        Female                      No          38   \n",
       "\n",
       "        member_age_bins start_time_month_name  start_time_month  \\\n",
       "2360607         30 - 40                  July                 7   \n",
       "\n",
       "        start_time_weekday start_time_day  start_time_hour  \n",
       "2360607                Thu             12               21  \n",
       "\n",
       "[1 rows x 23 columns]"
      ]
     },
     "execution_count": 357,
     "metadata": {},
     "output_type": "execute_result"
    }
   ],
   "source": [
    "df_master.sample()"
   ]
  },
  {
   "cell_type": "markdown",
   "metadata": {},
   "source": [
    "##### In the next section we will be working in the next few sections with the variables Age, User Type and Gender,in all the areas in the dataset\n",
    "##### \n",
    "1. We will take an overall view on the monthly usege,\n",
    "2. then the weekly usege of all users, \n",
    "3. then we will split the data by the users type.\n",
    "4. For each of the users type we will look deep into whether there are differing bahivoer based on gender or age.\n",
    "5. Finally create a heatmap that shows the hourly useged \n",
    "6. Suggegesting and recommendation. "
   ]
  },
  {
   "cell_type": "markdown",
   "metadata": {},
   "source": [
    "### Part 1 Univariate Exploration:\n"
   ]
  },
  {
   "cell_type": "markdown",
   "metadata": {},
   "source": [
    "##### What is the Monthly usege of the bike rides? "
   ]
  },
  {
   "cell_type": "code",
   "execution_count": 359,
   "metadata": {},
   "outputs": [
    {
     "data": {
      "image/png": "[encoded data removed]",
      "text/plain": [
       "<Figure size 360x360 with 1 Axes>"
      ]
     },
     "metadata": {
      "needs_background": "light"
     },
     "output_type": "display_data"
    }
   ],
   "source": [
    "# monthly usege of the Bike Trips\n",
    "x = sns.catplot(data=df_master, x='start_time_month', kind='count', color='darkcyan')\n",
    "x.set_axis_labels(\"Month\", \"The number of the Bike Trips\")\n",
    "x.fig.suptitle('Monthly usage of of Ford GoBike users', y=1.05, fontsize=15, fontweight='bold')\n",
    "plt.savefig('rids_each_months.png');"
   ]
  },
  {
   "cell_type": "markdown",
   "metadata": {},
   "source": [
    "##### The months March, April and October have the most usage in the year for all users. "
   ]
  },
  {
   "cell_type": "markdown",
   "metadata": {},
   "source": [
    "###### Similar to what we did above let's see how users behavior in the weekdays."
   ]
  },
  {
   "cell_type": "code",
   "execution_count": 360,
   "metadata": {},
   "outputs": [
    {
     "data": {
      "image/png": "[encoded data removed]",
      "text/plain": [
       "<Figure size 360x360 with 1 Axes>"
      ]
     },
     "metadata": {
      "needs_background": "light"
     },
     "output_type": "display_data"
    }
   ],
   "source": [
    "# set weekday to use it for order\n",
    "weekday = ['Mon', 'Tue', 'Wed', 'Thu', 'Fri', 'Sat', 'Sun']\n",
    "# weekday usege of the system\n",
    "x = sns.catplot(data=df_master, x='start_time_weekday', kind='count', color = 'darkcyan', order = weekday)\n",
    "x.set_axis_labels(\"Weekdays\", \"The number of the Bike Trips\")\n",
    "x.fig.suptitle('Weekly usage of Ford GoBike users', y=1.05, fontsize=14, fontweight='bold')\n",
    "plt.savefig('rides_weekdays.png');"
   ]
  },
  {
   "cell_type": "markdown",
   "metadata": {},
   "source": [
    "###### In general the weekdays have more rides than weekends"
   ]
  },
  {
   "cell_type": "markdown",
   "metadata": {},
   "source": [
    "### Part 2 Bivariate Exploration: "
   ]
  },
  {
   "cell_type": "markdown",
   "metadata": {},
   "source": [
    "###### Now let's take a look into the type of users "
   ]
  },
  {
   "cell_type": "code",
   "execution_count": 361,
   "metadata": {},
   "outputs": [],
   "source": [
    "# Create two main dataframe to work with \n",
    "customer = df_master.query('user_type == \"Customer\"')\n",
    "subscriber = df_master.query('user_type == \"Subscriber\"')"
   ]
  },
  {
   "cell_type": "code",
   "execution_count": 362,
   "metadata": {},
   "outputs": [],
   "source": [
    "# get the number of each User type\n",
    "customer_count = customer['bike_id'].count()\n",
    "subscriber_count = subscriber['bike_id'].count()"
   ]
  },
  {
   "cell_type": "code",
   "execution_count": 363,
   "metadata": {},
   "outputs": [],
   "source": [
    "# Get the percentage of each user type of the main DataFrame\n",
    "customer_group = customer_count / df_master['bike_id'].count()\n",
    "subscriber_group = subscriber_count / df_master['bike_id'].count()"
   ]
  },
  {
   "cell_type": "code",
   "execution_count": 364,
   "metadata": {},
   "outputs": [
    {
     "data": {
      "image/png": "[encoded data removed]",
      "text/plain": [
       "<Figure size 720x360 with 1 Axes>"
      ]
     },
     "metadata": {},
     "output_type": "display_data"
    }
   ],
   "source": [
    "plt.figure(figsize = [10, 5])\n",
    "# the pie chart\n",
    "plt.subplot(1, 1, 1)\n",
    "\n",
    "labels = ['Customer', 'Subscriber']\n",
    "sizes = [customer_group, subscriber_group]\n",
    "colors = ['darkorange', 'darkcyan']\n",
    "explode = (0, 0.1)\n",
    "\n",
    "plt.pie(sizes, explode=explode, labels=labels, colors = colors,\n",
    "        autopct='%1.1f%%', shadow=False, startangle=148)\n",
    "plt.axis('equal')\n",
    "\n",
    "plt.suptitle('User type split for Ford GoBike users', y=1.1, fontsize=16, fontweight='bold');"
   ]
  },
  {
   "cell_type": "markdown",
   "metadata": {},
   "source": [
    "###### As you can see in the left side There are Only 11.5% of the users are customer whereas 88.5% are Subscriber"
   ]
  },
  {
   "cell_type": "code",
   "execution_count": 365,
   "metadata": {},
   "outputs": [],
   "source": [
    "# Get the percentage of each gender for the customer type\n",
    "\n",
    "cus_gender_female_count = customer.query('member_gender == \"Female\"')['bike_id'].count()\n",
    "cus_gender_male_count = customer.query('member_gender == \"Male\"')['bike_id'].count()\n",
    "\n",
    "\n",
    "customer_female = cus_gender_female_count / customer['bike_id'].count()\n",
    "customer_male = cus_gender_male_count / customer['bike_id'].count()"
   ]
  },
  {
   "cell_type": "code",
   "execution_count": 366,
   "metadata": {},
   "outputs": [],
   "source": [
    "# Get the percentage of each gender for the subscribers type\n",
    "\n",
    "sub_gender_female_count = subscriber.query('member_gender == \"Female\"')['bike_id'].count()\n",
    "sub_gender_male_count = subscriber.query('member_gender == \"Male\"')['bike_id'].count()\n",
    "\n",
    "\n",
    "subscriber_female = sub_gender_female_count / subscriber['bike_id'].count()\n",
    "subscriber_male = sub_gender_male_count / subscriber['bike_id'].count()\n"
   ]
  },
  {
   "cell_type": "code",
   "execution_count": 367,
   "metadata": {},
   "outputs": [
    {
     "data": {
      "image/png": "[encoded data removed]",
      "text/plain": [
       "<Figure size 1080x720 with 2 Axes>"
      ]
     },
     "metadata": {},
     "output_type": "display_data"
    }
   ],
   "source": [
    "\n",
    "labels = ['Female', 'Male']\n",
    "sizes1 = [customer_female, customer_male]\n",
    "sizes2 = [subscriber_female, subscriber_male]\n",
    "colors = ['darkorange', 'darkcyan']\n",
    "\n",
    "# Make square figures and axes\n",
    "plt.figure(1, figsize=(15,10))\n",
    "the_grid = GridSpec(2, 2)\n",
    "\n",
    "# the pie chart \"Customer\"\n",
    "plt.subplot(the_grid[0,1], aspect=1, title='Customer users')\n",
    "Cus_users_pie = plt.pie(sizes2, explode=(0, 0.1), labels=labels, colors = colors,\n",
    "        autopct='%1.1f%%', shadow=True, startangle=148)\n",
    "\n",
    "# the pie chart \"Subscriber\"\n",
    "plt.subplot(the_grid[0,0], aspect=1, title='Subscriber users')\n",
    "sub_users_pie = plt.pie(sizes2, explode=(0, 0.1), labels=labels, colors = colors,\n",
    "        autopct='%.0f%%', shadow=True, startangle=148)\n",
    "plt.suptitle('Gender split for Customer Vs Subscriber', fontsize=16, fontweight='bold');\n",
    "\n",
    "plt.show()"
   ]
  },
  {
   "cell_type": "markdown",
   "metadata": {},
   "source": [
    "###### The trend in both user type is almost the same. The number of male is more in both of type users There almost no difference in the percentage of Female Vs Male between the Subscribers and the Customers as we can see on the pie charts above.  The males in customer  type of users are 74.8% whereas 23.6% are females . The males in the subscribers type of users are 75% whereas 24% are females."
   ]
  },
  {
   "cell_type": "markdown",
   "metadata": {},
   "source": [
    "### Part 3 - Multivariate Exploration:\n"
   ]
  },
  {
   "cell_type": "code",
   "execution_count": 368,
   "metadata": {},
   "outputs": [
    {
     "data": {
      "text/plain": [
       "Text(0.5, 1.013, 'Customer Vs Subscriber by the Group of Age for based on Gender ')"
      ]
     },
     "execution_count": 368,
     "metadata": {},
     "output_type": "execute_result"
    },
    {
     "data": {
      "image/png": "[encoded data removed]",
      "text/plain": [
       "<Figure size 1080x360 with 2 Axes>"
      ]
     },
     "metadata": {
      "needs_background": "light"
     },
     "output_type": "display_data"
    }
   ],
   "source": [
    "# set color to use in the next few charts\n",
    "palette = {'20 - 30': 'darkcyan', '30 - 40': 'darkorange', '40 - 50': 'darkblue'}\n",
    "\n",
    "plt.figure(figsize = [15, 5])\n",
    "\n",
    "# the bar chart\n",
    "plt.subplot(1, 2, 1)\n",
    "bar_chart = sns.countplot(x=\"member_gender\", hue=\"member_age_bins\" \n",
    "                          , palette=palette, data=customer[customer['member_age_bins'].isin(['20 - 30', '30 - 40', '40 - 50'])])\n",
    "\n",
    "bar_chart.set_xlabel('Customer')\n",
    "bar_chart.set_ylabel('The number of Customers')\n",
    "plt.subplot(1, 2, 2)\n",
    "bar_chart = sns.countplot(x=\"member_gender\", hue=\"member_age_bins\" \n",
    "                          , palette=palette, data=subscriber[subscriber['member_age_bins'].isin(['20 - 30', '30 - 40', '40 - 50'])])\n",
    "bar_chart.set_xlabel('Subscriber')\n",
    "bar_chart.set_ylabel('The number of Subscribers ')\n",
    "plt.suptitle('Customer Vs Subscriber by the Group of Age for based on Gender ', fontsize=14, y=1.013, fontweight='bold')\n"
   ]
  },
  {
   "cell_type": "markdown",
   "metadata": {},
   "source": [
    "###### There is one siginfcant different btween Customers and subscribers for the group of Age based on Gender as you can see that the group of Age 20-30 are the most group for female in the customer type of users whereas the in the subscriber type the group of 30-40 of age for female have the highest number.  And both type of users have the same results for the male gender and others with the most number of users by the group of age. "
   ]
  },
  {
   "cell_type": "code",
   "execution_count": 369,
   "metadata": {},
   "outputs": [
    {
     "data": {
      "text/plain": [
       "Text(0.5, 1.013, 'Customer Vs Subscriber by The number of the Bike Trips based on the Group of Age ')"
      ]
     },
     "execution_count": 369,
     "metadata": {},
     "output_type": "execute_result"
    },
    {
     "data": {
      "image/png": "[encoded data removed]",
      "text/plain": [
       "<Figure size 1080x360 with 2 Axes>"
      ]
     },
     "metadata": {
      "needs_background": "light"
     },
     "output_type": "display_data"
    }
   ],
   "source": [
    "plt.figure(figsize = [15, 5])\n",
    "\n",
    "# the bar chart\n",
    "plt.subplot(1, 2, 1)\n",
    "bar_chart = sns.countplot(x=\"start_time_month\", hue=\"member_age_bins\" \n",
    "                          , palette=palette, data=customer[customer['member_age_bins'].isin(['20 - 30', '30 - 40', '40 - 50'])]\n",
    "                          .sort_values(by=['start_time_month','member_age_bins']))\n",
    "\n",
    "bar_chart.set_xlabel('The Customer usege of each month')\n",
    "bar_chart.set_ylabel('The number of the Bike Trips')\n",
    "plt.subplot(1, 2, 2)\n",
    "bar_chart = sns.countplot(x=\"start_time_month\", hue=\"member_age_bins\" \n",
    "                          , palette=palette, data=subscriber[subscriber['member_age_bins'].isin(['20 - 30', '30 - 40', '40 - 50'])]\n",
    "                          .sort_values(by=['start_time_month','member_age_bins']))\n",
    "bar_chart.set_xlabel('The Subscribers usege of each month')\n",
    "bar_chart.set_ylabel('The number of the Bike Trips ')\n",
    "plt.suptitle('Customer Vs Subscriber by The number of the Bike Trips based on the Group of Age ', fontsize=14, y=1.013, fontweight='bold')\n"
   ]
  },
  {
   "cell_type": "markdown",
   "metadata": {},
   "source": [
    "###### In General the group of 30-40 of age in the subscribers type of years have the most usage of our system but this isn't always the case in the customer type of users as you can see on the left chart.  The Customer group differ in the few months where is the group of age 20-30 have the most trips and to be exact the months are Jan, Feb, March, April, July, Aug and The rest of the year the customer type of users have similar results of the subscribers type of ueres. Also we can see that the months 3,4 for both the users type has the most usage, and the months 8,9 and for both types of users have similar behavior whereas the it differ in the other months."
   ]
  },
  {
   "cell_type": "code",
   "execution_count": 371,
   "metadata": {},
   "outputs": [
    {
     "data": {
      "text/plain": [
       "Text(0.5, 1.013, 'Customer Vs Subscriber by The number of the Bike Trips based on the Group of Age ')"
      ]
     },
     "execution_count": 371,
     "metadata": {},
     "output_type": "execute_result"
    },
    {
     "data": {
      "image/png": "[encoded data removed]",
      "text/plain": [
       "<Figure size 1080x360 with 2 Axes>"
      ]
     },
     "metadata": {
      "needs_background": "light"
     },
     "output_type": "display_data"
    }
   ],
   "source": [
    "plt.figure(figsize = [15, 5])\n",
    "\n",
    "# the bar chart\n",
    "plt.subplot(1, 2, 1)\n",
    "bar_chart = sns.countplot(x=\"start_time_weekday\", hue='member_age_bins',palette=palette, data=customer[customer['member_age_bins']\n",
    "                                                                                                                                              .isin(['20 - 30', '30 - 40', '40 - 50'])],order = weekday)\n",
    "\n",
    "bar_chart.set_xlabel('The Customer usege on Weekdays')\n",
    "bar_chart.set_ylabel('The number of the Bike Trips')\n",
    "plt.subplot(1, 2, 2)\n",
    "bar_chart = sns.countplot(x=\"start_time_weekday\", hue='member_age_bins',palette=palette, data=subscriber[subscriber['member_age_bins']\n",
    "                                                                                                                                              .isin(['20 - 30', '30 - 40', '40 - 50'])],order = weekday)\n",
    "bar_chart.set_xlabel('The Subscribers usege on Weekdays')\n",
    "bar_chart.set_ylabel('The number of the Bike Trips ')\n",
    "plt.suptitle('Customer Vs Subscriber by The number of the Bike Trips based on the Group of Age ', fontsize=14, y=1.013, fontweight='bold')\n"
   ]
  },
  {
   "cell_type": "markdown",
   "metadata": {},
   "source": [
    "##### An overall of the  Customer Vs Sub weekly usage as you can see in the charts above that the customer type of users have less usegs during the weekdays and more on the weekends whereas quite the opposite for the subscribers type of users raides more during the weekdays rather than weekends and the more interesting part here is that in both type of users the group of age 20-30 ride more on the weekends and the group of 30-40 of age rides more on weekdays."
   ]
  },
  {
   "cell_type": "markdown",
   "metadata": {},
   "source": [
    "### Conclusion:\n",
    "<b>In general The months March and April and October have the most usage in the year for all users. <br>\n",
    "In general the weekdays have more rides than weekends for all users.<br>\n",
    "There are Only 11.5% of the users are customer whereas 88.5% are Subscriber<br>\n",
    "The trend in both user type is almost the same. The number of male is more in both of type users There almost no difference in the percentage of Female Vs Male between the Subscribers and the Customers.  The males in customer  type of users are 74.8% whereas 23.6% are females . The males in the subscribers type of users are 75% whereas 24% are females.<br>\n",
    "The most group of age in the Customer that use the system are 20-30 then 30-40 of age.<br>\n",
    "The group of age 20-30 in the customer type of users for the female gender have the hi<br>\n",
    "In General the group of 30-40 of age in the subscribers type of years have the most usage of our system but this isn't always the case in the customer type of users as you can see on the left chart. The Customer group differ in the few months where is the group of age 20-30 have the most trips and to be exact the months are Jan, Feb, March, April, July, Aug and The rest of the year the customer type of users have similar results of the subscribers type of ueres. Also we can see that the months 3,4 for both the users type has the most usage, and the months 8,9 and for both types of users have similar behavior whereas the it differ in the other months.<br>\n",
    "An overall of the  Customer Vs Sub weekly usage as you can see in the charts above that the customer type of users have less usegs during the weekdays and more on the weekends whereas quite the opposite for the subscribers type of users raides more during the weekdays rather than weekends and the more interesting part here is that in both type of users the group of age 20-30 ride more on the weekends and the group of 30-40 of age rides more on weekdays.<br>\n",
    "The most group of age in the subscribers that use the system are 30-40 then 20-30-40 of age.<br> The subscribers use the system more during the weekdays<b/>\n"
   ]
  },
  {
   "cell_type": "code",
   "execution_count": 372,
   "metadata": {},
   "outputs": [],
   "source": [
    "# this to update the work we did and to use it for the Slide_Deck_Ford_GoBike as well\n",
    "# it may take few minutes \n",
    "df_master.to_csv('master_updated.csv', index = False)"
   ]
  }
 ],
 "metadata": {
  "kernelspec": {
   "display_name": "Python 3",
   "language": "python",
   "name": "python3"
  },
  "language_info": {
   "codemirror_mode": {
    "name": "ipython",
    "version": 3
   },
   "file_extension": ".py",
   "mimetype": "text/x-python",
   "name": "python",
   "nbconvert_exporter": "python",
   "pygments_lexer": "ipython3",
   "version": "3.7.3"
  }
 },
 "nbformat": 4,
 "nbformat_minor": 2
}
